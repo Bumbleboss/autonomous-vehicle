{
  "cells": [
    {
      "cell_type": "markdown",
      "metadata": {
        "id": "view-in-github",
        "colab_type": "text"
      },
      "source": [
        "<a href=\"https://colab.research.google.com/github/Bumbleboss/autonomous-vehicle/blob/yolo-training/train.ipynb\" target=\"_parent\"><img src=\"https://colab.research.google.com/assets/colab-badge.svg\" alt=\"Open In Colab\"/></a>"
      ]
    },
    {
      "cell_type": "code",
      "source": [
        "!git clone https://github.com/ultralytics/yolov5  # clone\n",
        "\n",
        "%cd yolov5\n",
        "!pip install -r requirements.txt  # install"
      ],
      "metadata": {
        "id": "JKDr0jc_wbVQ"
      },
      "id": "JKDr0jc_wbVQ",
      "execution_count": null,
      "outputs": []
    },
    {
      "cell_type": "code",
      "source": [
        "%cd ..\n",
        "\n",
        "# clone yolo branch from repository to retrieve training data\n",
        "!git clone --branch yolo-training https://github.com/Bumbleboss/autonomous-vehicle/"
      ],
      "metadata": {
        "id": "5b89depVReHJ"
      },
      "id": "5b89depVReHJ",
      "execution_count": null,
      "outputs": []
    },
    {
      "cell_type": "code",
      "execution_count": null,
      "id": "initial_id",
      "metadata": {
        "collapsed": true,
        "id": "initial_id"
      },
      "outputs": [],
      "source": [
        "!gdown 1Oo1G2x3aH6BcOjoCK1ioJGpksXL7iUXU # download dataset from Google Drive\n",
        "!unzip udacity-self-driving -d autonomous-vehicle/datasets/udacity-self-driving"
      ]
    },
    {
      "cell_type": "code",
      "source": [
        "# change working directory and install requirements\n",
        "%cd autonomous-vehicle\n",
        "!pip install -r requirements.txt"
      ],
      "metadata": {
        "id": "SUgPlAeKNOV3"
      },
      "id": "SUgPlAeKNOV3",
      "execution_count": null,
      "outputs": []
    },
    {
      "cell_type": "code",
      "source": [
        "# auto split images\n",
        "!python autosplit.py"
      ],
      "metadata": {
        "id": "DnLKD7G_Npmk"
      },
      "id": "DnLKD7G_Npmk",
      "execution_count": null,
      "outputs": []
    },
    {
      "cell_type": "code",
      "execution_count": null,
      "outputs": [],
      "source": [
        "!python train.py --data ../autonomous-vehicle/datasets/udacity-self-driving/data.yaml --weights yolov5n.pt --epochs 3"
      ],
      "metadata": {
        "id": "tac5lRokNgIp"
      },
      "id": "tac5lRokNgIp"
    }
  ],
  "metadata": {
    "kernelspec": {
      "display_name": "Python 3",
      "name": "python3"
    },
    "language_info": {
      "codemirror_mode": {
        "name": "ipython",
        "version": 2
      },
      "file_extension": ".py",
      "mimetype": "text/x-python",
      "name": "python",
      "nbconvert_exporter": "python",
      "pygments_lexer": "ipython2",
      "version": "2.7.6"
    },
    "colab": {
      "provenance": [],
      "gpuType": "T4",
      "include_colab_link": true
    },
    "accelerator": "GPU"
  },
  "nbformat": 4,
  "nbformat_minor": 5
}