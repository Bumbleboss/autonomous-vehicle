{
 "cells": [
  {
   "cell_type": "code",
   "source": [
    "# Clone yolo branch from repository to retrieve training data\n",
    "!git clone --branch yolo-training https://github.com/Bumbleboss/autonomous-vehicle/"
   ],
   "metadata": {
    "id": "5b89depVReHJ",
    "outputId": "ad10e105-2c3c-4a17-9bcb-ccc858ca09d0",
    "colab": {
     "base_uri": "https://localhost:8080/"
    }
   },
   "id": "5b89depVReHJ",
   "execution_count": null,
   "outputs": []
  },
  {
   "cell_type": "code",
   "execution_count": null,
   "id": "initial_id",
   "metadata": {
    "collapsed": true,
    "colab": {
     "base_uri": "https://localhost:8080/"
    },
    "id": "initial_id",
    "outputId": "12995741-e09c-4bc4-9867-efaea1796fad"
   },
   "outputs": [],
   "source": [
    "# Download dataset from Google Drive and unzip it on same directory as cloned repository\n",
    "!gdown 1Oo1G2x3aH6BcOjoCK1ioJGpksXL7iUXU\n",
    "!unzip udacity-self-driving -d autonomous-vehicle/datasets/udacity-self-driving"
   ]
  },
  {
   "cell_type": "code",
   "source": [
    "# Change working directory and install requirements\n",
    "%cd autonomous-vehicle\n",
    "!pip install -r requirements.txt"
   ],
   "metadata": {
    "colab": {
     "base_uri": "https://localhost:8080/"
    },
    "id": "SUgPlAeKNOV3",
    "outputId": "a381782e-8b3c-4f3d-d4a8-9febf7b71780"
   },
   "id": "SUgPlAeKNOV3",
   "execution_count": null,
   "outputs": []
  },
  {
   "cell_type": "code",
   "source": [
    "# Auto split images \n",
    "!python autosplit.py"
   ],
   "metadata": {
    "colab": {
     "base_uri": "https://localhost:8080/"
    },
    "id": "DnLKD7G_Npmk",
    "outputId": "548512c4-7764-4961-bf6e-aa1960ec34e5"
   },
   "id": "DnLKD7G_Npmk",
   "execution_count": null,
   "outputs": []
  },
  {
   "cell_type": "code",
   "execution_count": null,
   "outputs": [],
   "source": [
    "!yolo train data=datasets/udacity-self-driving/data.yaml model=yolov5nu.pt epochs=3"
   ],
   "metadata": {
    "collapsed": false
   },
   "id": "tac5lRokNgIp"
  }
 ],
 "metadata": {
  "kernelspec": {
   "display_name": "Python 3",
   "language": "python",
   "name": "python3"
  },
  "language_info": {
   "codemirror_mode": {
    "name": "ipython",
    "version": 2
   },
   "file_extension": ".py",
   "mimetype": "text/x-python",
   "name": "python",
   "nbconvert_exporter": "python",
   "pygments_lexer": "ipython2",
   "version": "2.7.6"
  },
  "colab": {
   "provenance": [],
   "include_colab_link": true
  }
 },
 "nbformat": 4,
 "nbformat_minor": 5
}
